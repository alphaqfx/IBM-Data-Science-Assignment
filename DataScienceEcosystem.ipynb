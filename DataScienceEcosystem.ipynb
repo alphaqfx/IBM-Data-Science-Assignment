{
 "cells": [
  {
   "cell_type": "markdown",
   "id": "09a2acf1-4d38-4673-992d-6a2cbb762392",
   "metadata": {},
   "source": [
    "# Data Science Tools and Ecosystem"
   ]
  },
  {
   "cell_type": "markdown",
   "id": "bc943768-d4f8-4932-95cc-a911eebc1432",
   "metadata": {},
   "source": [
    "## Introduction\n",
    "In this notebook, Data Science Tools and Ecosystem are summarized."
   ]
  },
  {
   "cell_type": "markdown",
   "id": "303e0141-1be4-4eab-95c4-6ec0da6280bc",
   "metadata": {},
   "source": [
    "### **Objectives:**\n",
    "- List popular languages for data science.\n",
    "- Mention commonly used libraries for data science.\n",
    "- Use tables to list best data science tools.\n",
    "- Write sample program to perform arithmetic operations in Python."
   ]
  },
  {
   "cell_type": "markdown",
   "id": "74149211-347c-4ee1-a00b-5b696379c964",
   "metadata": {},
   "source": [
    "### Data Science Languages\n",
    "Some of the popular languages that Data Scientists use are:\n",
    "1. **Python**\n",
    "2. **R**\n",
    "3. **Julia**\n",
    "4. **Scala**\n",
    "5. **SQL**"
   ]
  },
  {
   "cell_type": "markdown",
   "id": "aecb1405-a9a4-4f19-b369-187532d7ce7e",
   "metadata": {},
   "source": [
    "### Data Science Libraries\n",
    "Some of the commonly used libraries used by Data Scientists include:\n",
    "1. **Tensorflow**\n",
    "2. **NumPy**\n",
    "3. **Pandas**\n",
    "4. **SciPy**\n",
    "5. **PyTorch**"
   ]
  },
  {
   "cell_type": "markdown",
   "id": "0dcc64e8-1301-48d3-915b-90286421eed9",
   "metadata": {},
   "source": [
    "### Data Science Tools\n",
    "| Data Science Tools          |\n",
    "|-----------------------------|\n",
    "| **Jupyter Notebooks**       |\n",
    "| **RStudio**                 |\n",
    "| **VS Code with extensions** |\n",
    "### Below are a few examples of evaluating arithmetic expressions in Python.\n"
   ]
  },
  {
   "cell_type": "code",
   "execution_count": 2,
   "id": "27953ec3-b037-4a06-89ae-3b512430acdc",
   "metadata": {
    "tags": []
   },
   "outputs": [
    {
     "data": {
      "text/plain": [
       "17"
      ]
     },
     "execution_count": 2,
     "metadata": {},
     "output_type": "execute_result"
    }
   ],
   "source": [
    "#This a simple arithmetic expression to mutiply then add integers\n",
    "\n",
    "(3*4)+5"
   ]
  },
  {
   "cell_type": "code",
   "execution_count": 3,
   "id": "129b0af3-5cb5-4315-bb17-9ad720457ecc",
   "metadata": {
    "tags": []
   },
   "outputs": [
    {
     "data": {
      "text/plain": [
       "3.3333333333333335"
      ]
     },
     "execution_count": 3,
     "metadata": {},
     "output_type": "execute_result"
    }
   ],
   "source": [
    "#This will convert 200 minutes to hours by diving by 60.\n",
    "\n",
    "200/60"
   ]
  },
  {
   "cell_type": "markdown",
   "id": "13aa7b93-3c4b-4c4c-849f-2342c48e3abf",
   "metadata": {},
   "source": [
    "## Author\n",
    "Vignesh Uthiravelu"
   ]
  },
  {
   "cell_type": "code",
   "execution_count": null,
   "id": "be997cd9-ebff-4f26-a056-d7a78ddfb6fd",
   "metadata": {},
   "outputs": [],
   "source": []
  }
 ],
 "metadata": {
  "kernelspec": {
   "display_name": "Python",
   "language": "python",
   "name": "conda-env-python-py"
  },
  "language_info": {
   "codemirror_mode": {
    "name": "ipython",
    "version": 3
   },
   "file_extension": ".py",
   "mimetype": "text/x-python",
   "name": "python",
   "nbconvert_exporter": "python",
   "pygments_lexer": "ipython3",
   "version": "3.7.12"
  }
 },
 "nbformat": 4,
 "nbformat_minor": 5
}
